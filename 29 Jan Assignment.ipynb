{
 "cells": [
  {
   "cell_type": "code",
   "execution_count": null,
   "id": "fbf3489c-a904-4632-91c4-127987b2d741",
   "metadata": {},
   "outputs": [],
   "source": [
    "Que1:Who developed Python Programming Language?"
   ]
  },
  {
   "cell_type": "code",
   "execution_count": null,
   "id": "4bc39126-86bb-491b-91e8-49489c6261fd",
   "metadata": {},
   "outputs": [],
   "source": [
    "Ans1:Python Programming Language was developed by Guido van Rossum."
   ]
  },
  {
   "cell_type": "code",
   "execution_count": null,
   "id": "de97822c-d2fa-4ccc-95c0-b37555b3dc2e",
   "metadata": {},
   "outputs": [],
   "source": [
    "Que2:Which type of Programmming does python support?"
   ]
  },
  {
   "cell_type": "code",
   "execution_count": null,
   "id": "b1a86e07-a91b-40f7-a4ea-be01fbf50f71",
   "metadata": {},
   "outputs": [],
   "source": [
    "Ans2:Python supports Object-oriented programming and structured programming. "
   ]
  },
  {
   "cell_type": "code",
   "execution_count": null,
   "id": "6d8615a8-1931-4b70-b7b6-30ab7a75e8c6",
   "metadata": {},
   "outputs": [],
   "source": [
    "Que3:Is python case sensitive when dealing with identifiers?"
   ]
  },
  {
   "cell_type": "code",
   "execution_count": null,
   "id": "e474c21a-2759-40eb-b7bf-7e50187f84b2",
   "metadata": {},
   "outputs": [],
   "source": [
    "Ans3:Yes"
   ]
  },
  {
   "cell_type": "code",
   "execution_count": null,
   "id": "5318f33b-10f2-4782-8f0d-ae89b502739e",
   "metadata": {},
   "outputs": [],
   "source": [
    "Que4:What is the correct extension of the python file?"
   ]
  },
  {
   "cell_type": "code",
   "execution_count": null,
   "id": "4611f08b-88cd-432e-9708-8279b71dfb34",
   "metadata": {},
   "outputs": [],
   "source": [
    "Ans4:.py extension"
   ]
  },
  {
   "cell_type": "code",
   "execution_count": null,
   "id": "a9fa2a2f-be92-4d7d-aad5-e55d366f8464",
   "metadata": {},
   "outputs": [],
   "source": [
    "Que5:Is python code compiled or interpreted?"
   ]
  },
  {
   "cell_type": "code",
   "execution_count": null,
   "id": "48648308-4f5c-4731-b364-0bc8ecc42d4e",
   "metadata": {},
   "outputs": [],
   "source": [
    "Ans5:Both compiled and interpreted."
   ]
  },
  {
   "cell_type": "code",
   "execution_count": null,
   "id": "9007944e-e5ad-420d-90bc-290a880666bf",
   "metadata": {},
   "outputs": [],
   "source": [
    "Que6:Name a few blocks of code used to define in Python language?"
   ]
  },
  {
   "cell_type": "code",
   "execution_count": null,
   "id": "6e5f3f74-04c6-4ce4-a9fd-0b14eb1a8eb7",
   "metadata": {},
   "outputs": [],
   "source": [
    "Ans6:The following are the blocks:\n",
    "    a module,\n",
    "    a function body,\n",
    "    and a class definition."
   ]
  },
  {
   "cell_type": "code",
   "execution_count": null,
   "id": "8e9c46cf-f4d1-494f-b097-8c46348b558f",
   "metadata": {},
   "outputs": [],
   "source": [
    "Que7:State a character used to give single-line comments in Python?"
   ]
  },
  {
   "cell_type": "code",
   "execution_count": null,
   "id": "2adfee2d-9919-4eb7-bd60-7885169681e3",
   "metadata": {},
   "outputs": [],
   "source": [
    "Ans7:##"
   ]
  },
  {
   "cell_type": "code",
   "execution_count": null,
   "id": "e1b7d29b-bc1f-468d-b50d-4a7b80b7d2e6",
   "metadata": {},
   "outputs": [],
   "source": [
    "Que8:Mention functions which can help us to find the version of python that we\n",
    "    are currently working on? "
   ]
  },
  {
   "cell_type": "code",
   "execution_count": null,
   "id": "76ab8cc2-a39f-49cd-9af7-bb4de8a7bda5",
   "metadata": {},
   "outputs": [],
   "source": [
    "Ans8:(a) Using sys.version method\n",
    "    (b) Using python_version() function\n",
    "    (c) Using Python-V command"
   ]
  },
  {
   "cell_type": "code",
   "execution_count": null,
   "id": "5c4ba1f1-9c43-4225-8dce-de2fcaf7aa0d",
   "metadata": {},
   "outputs": [],
   "source": [
    "Que9:Python supports the creation of anonymous functions at runtime, using a \n",
    "    construct called________"
   ]
  },
  {
   "cell_type": "code",
   "execution_count": null,
   "id": "9a99deac-a6d2-4ea9-99eb-abf257a457c0",
   "metadata": {},
   "outputs": [],
   "source": [
    "Ans9:lambda"
   ]
  },
  {
   "cell_type": "code",
   "execution_count": null,
   "id": "88bb7142-a1e8-4d65-b18f-45f942600e73",
   "metadata": {},
   "outputs": [],
   "source": [
    "Que10:What does pip stands for python?"
   ]
  },
  {
   "cell_type": "code",
   "execution_count": null,
   "id": "fd53d02b-1671-4cad-889f-576ddb009290",
   "metadata": {},
   "outputs": [],
   "source": [
    "Ans10:Preferred installer program"
   ]
  },
  {
   "cell_type": "code",
   "execution_count": null,
   "id": "dd9226b1-e1dd-470f-9cab-e036e3a4a8d7",
   "metadata": {},
   "outputs": [],
   "source": [
    "Que11:Mention a few bulit-in functions in python?"
   ]
  },
  {
   "cell_type": "code",
   "execution_count": null,
   "id": "2f49e79a-dfe8-4e7e-93c6-5eb33ad53c57",
   "metadata": {},
   "outputs": [],
   "source": [
    "Ans11:float(),format(),id(),input(),isinstance(),list(),object(),print(),sorted(),\n",
    "      str(),tuple(),type(),dict(),complex(),etc."
   ]
  },
  {
   "cell_type": "code",
   "execution_count": null,
   "id": "59d16c73-5ec7-4397-ba0c-204b0e942cc5",
   "metadata": {},
   "outputs": [],
   "source": [
    "Que12:What is the maximum possible length of an identifier in Python?"
   ]
  },
  {
   "cell_type": "code",
   "execution_count": null,
   "id": "308657ed-0cbf-47a3-a2a4-5fe18e39f040",
   "metadata": {},
   "outputs": [],
   "source": [
    "Ans12:An identifier can have a maximum length of 79 charcters in Python."
   ]
  },
  {
   "cell_type": "code",
   "execution_count": null,
   "id": "097f2786-7856-4e5e-ad87-7ed98bbe651b",
   "metadata": {},
   "outputs": [],
   "source": [
    "Que13:What are the benefits of using Python?"
   ]
  },
  {
   "cell_type": "code",
   "execution_count": null,
   "id": "4086afb8-36e7-47c5-a92d-9a26d7f9fc83",
   "metadata": {},
   "outputs": [],
   "source": [
    "Ans13:(a) developing websites and software,\n",
    "      (b) task automation,\n",
    "      (c) data analysis, and\n",
    "      (d) data visualization"
   ]
  },
  {
   "cell_type": "code",
   "execution_count": null,
   "id": "c0c7e861-adc3-4efd-889b-f78fc6ed6b04",
   "metadata": {},
   "outputs": [],
   "source": [
    "Que14:How is memory managed in Python?"
   ]
  },
  {
   "cell_type": "code",
   "execution_count": null,
   "id": "3461e27b-f12e-4a50-970a-66c46eba02ec",
   "metadata": {},
   "outputs": [],
   "source": [
    "Ans14:Memory management in python involves a private heap containing all Python \n",
    "     objects and data structures.\n",
    "    The management of this private heap is ensured internally by the Python\n",
    "    memory manager."
   ]
  },
  {
   "cell_type": "code",
   "execution_count": null,
   "id": "cc5d6c1a-cde6-4eea-bcf3-4b989ab47482",
   "metadata": {},
   "outputs": [],
   "source": [
    "Que15:How to install Python on Windows and set path variables? "
   ]
  },
  {
   "cell_type": "code",
   "execution_count": null,
   "id": "5f1a6065-3b12-4bc1-af81-2cff1149a024",
   "metadata": {},
   "outputs": [],
   "source": [
    "Ans15:The process to install python on Windows:\n",
    "      \n",
    "      (a):To download Python, you need to visit www.python.org, which is the \n",
    "          official Python website.\n",
    "      (b):Click on the Downloads tab and then select the Windows option.\n",
    "      (c):This will take you to the page where the different Python releases\n",
    "          for Windows can be found. Since I am using a 64bit system, I'll\n",
    "          select \"Windows x86-64 executable installer\".\n",
    "      (d):Once the executable file download is complete, you can open it \n",
    "          to install Python.\n",
    "      (e):Click in Run, Which will start the installation process.\n",
    "      (f):If you want to save the installation file in a different location,\n",
    "          click on Customize installation; otherwise, continue with Install\n",
    "          Now. Also, select the checkbox at the bottom to Add Python 3.7 to\n",
    "          PATH.\n",
    "      (g):Once the installation is complete, the below pop-up box will appear\n",
    "          : Setup was successful.\n",
    "        \n",
    "    The complete path of python.exe can be added by:\n",
    "\n",
    "      (a):Right-clicking This PC and going to Properties.\n",
    "      (b):Clicking on the Advanced system settings in the menu on the left.\n",
    "      (c):Clicking on the Environment Variables button o​n the bottom right.\n",
    "      (d):In the System variables section, selecting the Path variable and clicking on Edit. The next screen will show all the directories that are currently a part of the PATH variable.\n",
    "      (e):Clicking on New and entering Python’s install directory."
   ]
  },
  {
   "cell_type": "code",
   "execution_count": null,
   "id": "c5318c9d-c69b-4205-bf5f-9359dc982f31",
   "metadata": {},
   "outputs": [],
   "source": [
    "Que16:Is indentation required in python?"
   ]
  },
  {
   "cell_type": "code",
   "execution_count": null,
   "id": "522a8648-4257-446b-b8b8-f7594b77f23e",
   "metadata": {},
   "outputs": [],
   "source": [
    "Ans16:Yes, because it is used to indicate a block of code in Python."
   ]
  }
 ],
 "metadata": {
  "kernelspec": {
   "display_name": "Python 3 (ipykernel)",
   "language": "python",
   "name": "python3"
  },
  "language_info": {
   "codemirror_mode": {
    "name": "ipython",
    "version": 3
   },
   "file_extension": ".py",
   "mimetype": "text/x-python",
   "name": "python",
   "nbconvert_exporter": "python",
   "pygments_lexer": "ipython3",
   "version": "3.10.8"
  }
 },
 "nbformat": 4,
 "nbformat_minor": 5
}
