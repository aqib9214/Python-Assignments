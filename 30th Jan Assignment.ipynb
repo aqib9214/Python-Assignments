{
 "cells": [
  {
   "cell_type": "code",
   "execution_count": 2,
   "id": "dac0952a-4a71-4085-9f8f-3a9e760e617c",
   "metadata": {},
   "outputs": [
    {
     "name": "stdin",
     "output_type": "stream",
     "text": [
      "Enter the marks: 65\n"
     ]
    },
    {
     "name": "stdout",
     "output_type": "stream",
     "text": [
      "Grade C\n"
     ]
    }
   ],
   "source": [
    "## Que1:\n",
    "marks=int(input(\"Enter the marks:\"))\n",
    "if marks>90:\n",
    "    print(\"Grade A\")\n",
    "elif marks>80 and marks<=90:\n",
    "    print(\"Grade B\")\n",
    "elif marks>=60 and marks<=80:\n",
    "    print(\"Grade C\")\n",
    "else:\n",
    "    print(\"Grade D\")"
   ]
  },
  {
   "cell_type": "code",
   "execution_count": 3,
   "id": "8dd6b483-9775-47ba-a76f-1469601023ee",
   "metadata": {},
   "outputs": [
    {
     "name": "stdin",
     "output_type": "stream",
     "text": [
      "Enter the cost price of a bike: 45000\n"
     ]
    },
    {
     "name": "stdout",
     "output_type": "stream",
     "text": [
      "The road tax to be paid according to the cost price is 5%\n"
     ]
    }
   ],
   "source": [
    "## Que2:\n",
    "cost_price=int(input(\"Enter the cost price of a bike:\"))\n",
    "if cost_price>100000:\n",
    "    print(\"The road tax to be paid according to the cost price is 15%\")\n",
    "elif cost_price>50000 and cost_price<=100000:\n",
    "    print(\"The road tax to be paid according to the cost price is 10%\")\n",
    "else:\n",
    "    print(\"The road tax to be paid according to the cost price is 5%\")"
   ]
  },
  {
   "cell_type": "code",
   "execution_count": 4,
   "id": "1d8629cb-ce61-41f7-9e11-57533e3353e2",
   "metadata": {},
   "outputs": [
    {
     "name": "stdin",
     "output_type": "stream",
     "text": [
      "Enter the city name: Delhi\n"
     ]
    },
    {
     "name": "stdout",
     "output_type": "stream",
     "text": [
      "Monument of Delhi is Red Fort\n"
     ]
    }
   ],
   "source": [
    "## Que3:\n",
    "city=input(\"Enter the city name:\")\n",
    "if city==\"Delhi\":\n",
    "    print(\"Monument of Delhi is Red Fort\")\n",
    "elif city==\"Agra\":\n",
    "    print(\"Monument of Agra is Taj Mahal\")\n",
    "elif city==\"Jaipur\":\n",
    "    print(\"Monument of Jaipur is Taj Mahal\")\n",
    "else:\n",
    "    print(\"Enter the valid city\")"
   ]
  },
  {
   "cell_type": "code",
   "execution_count": 5,
   "id": "b3be9945-608c-4a0a-917a-91cc61cd96e2",
   "metadata": {},
   "outputs": [
    {
     "name": "stdin",
     "output_type": "stream",
     "text": [
      "Enter your number: 27\n"
     ]
    },
    {
     "name": "stdout",
     "output_type": "stream",
     "text": [
      "27 is divisible by 3\n"
     ]
    }
   ],
   "source": [
    "## Que4:\n",
    "num1=int(input(\"Enter your number:\"))\n",
    "if(num1%3==0):\n",
    "    print(\"{} is divisible by 3\".format(num1))\n",
    "else:\n",
    "    print(\"{} is not divisible by 3\".format(num1))"
   ]
  },
  {
   "cell_type": "code",
   "execution_count": null,
   "id": "954508b5-1950-4972-894a-23bcba428216",
   "metadata": {},
   "outputs": [],
   "source": [
    "## Que5:\n",
    "## why and when to use while loop in python\n",
    "In Python programming, we use while loops to do a task a certain number of times repeatedly.\n",
    "The while loop checks a condition and executes the task as long as that condition is satisfied.\n",
    "The loop will stop its execution once the condition becomes not satisfied."
   ]
  },
  {
   "cell_type": "code",
   "execution_count": 6,
   "id": "ce62ed64-a226-4aee-84ba-b6c837764af8",
   "metadata": {},
   "outputs": [
    {
     "name": "stdout",
     "output_type": "stream",
     "text": [
      "1\n",
      "2\n",
      "3\n",
      "4\n",
      "5\n",
      "6\n",
      "7\n",
      "8\n",
      "9\n",
      "10\n"
     ]
    }
   ],
   "source": [
    "## example of while loop\n",
    "i=1\n",
    "while i<=10:\n",
    "    print(i)\n",
    "    i+=1"
   ]
  },
  {
   "cell_type": "code",
   "execution_count": 7,
   "id": "96d0230a-2b84-4a63-90fe-3142b0389076",
   "metadata": {},
   "outputs": [
    {
     "name": "stdout",
     "output_type": "stream",
     "text": [
      "1 \n",
      "1 2 \n",
      "1 2 3 \n",
      "1 2 3 4 \n",
      "1 2 3 4 5 \n",
      "1 2 3 4 5 6 \n",
      "1 2 3 4 5 6 7 \n",
      "1 2 3 4 5 6 7 8 \n",
      "1 2 3 4 5 6 7 8 9 \n",
      "1 2 3 4 5 6 7 8 9 10 \n"
     ]
    }
   ],
   "source": [
    "## Que6:\n",
    "## use nested while loop to print 3 different patterns\n",
    "i=1\n",
    "while i<=10:\n",
    "    j=1\n",
    "    while j<=i:\n",
    "        print(j,end=\" \")\n",
    "        j=j+1\n",
    "    print(\"\")\n",
    "    i=i+1"
   ]
  },
  {
   "cell_type": "code",
   "execution_count": 8,
   "id": "8ac53b0b-4451-49dc-97a9-c65420649e2e",
   "metadata": {},
   "outputs": [
    {
     "name": "stdin",
     "output_type": "stream",
     "text": [
      "Enter number of rows: 10\n"
     ]
    },
    {
     "name": "stdout",
     "output_type": "stream",
     "text": [
      "$ \n",
      "$ $ \n",
      "$ $ $ \n",
      "$ $ $ $ \n",
      "$ $ $ $ $ \n",
      "$ $ $ $ $ $ \n",
      "$ $ $ $ $ $ $ \n",
      "$ $ $ $ $ $ $ $ \n",
      "$ $ $ $ $ $ $ $ $ \n",
      "$ $ $ $ $ $ $ $ $ $ \n"
     ]
    }
   ],
   "source": [
    "n=int(input(\"Enter number of rows:\"))\n",
    "i=1\n",
    "while i<=n:\n",
    "    j=1\n",
    "    while j<=i:\n",
    "        print(\"$\",end=\" \")\n",
    "        j+=1\n",
    "    print()\n",
    "    i+=1"
   ]
  },
  {
   "cell_type": "code",
   "execution_count": 9,
   "id": "0394a9d9-6af3-4ad9-a300-8137b3dbbe91",
   "metadata": {},
   "outputs": [
    {
     "name": "stdin",
     "output_type": "stream",
     "text": [
      "Enter number of rows: 10\n"
     ]
    },
    {
     "name": "stdout",
     "output_type": "stream",
     "text": [
      "* * * * * * * * * * \n",
      "* * * * * * * * * \n",
      "* * * * * * * * \n",
      "* * * * * * * \n",
      "* * * * * * \n",
      "* * * * * \n",
      "* * * * \n",
      "* * * \n",
      "* * \n",
      "* \n"
     ]
    }
   ],
   "source": [
    "n=int(input(\"Enter number of rows:\"))\n",
    "i=1\n",
    "while i<=n:\n",
    "    j=n\n",
    "    while j>=i:\n",
    "        print(\"*\",end=\" \")\n",
    "        j-=1\n",
    "    print()\n",
    "    i+=1"
   ]
  },
  {
   "cell_type": "code",
   "execution_count": 10,
   "id": "c3839f75-4e1d-4906-80ce-e763bb23e347",
   "metadata": {},
   "outputs": [
    {
     "name": "stdout",
     "output_type": "stream",
     "text": [
      "10\n",
      "9\n",
      "8\n",
      "7\n",
      "6\n",
      "5\n",
      "4\n",
      "3\n",
      "2\n",
      "1\n"
     ]
    }
   ],
   "source": [
    "i=10\n",
    "while i>=1:\n",
    "    print(i)\n",
    "    i=i-1"
   ]
  },
  {
   "cell_type": "code",
   "execution_count": null,
   "id": "44c0196c-318d-4f4b-b57d-46de51d851ad",
   "metadata": {},
   "outputs": [],
   "source": []
  }
 ],
 "metadata": {
  "kernelspec": {
   "display_name": "Python 3 (ipykernel)",
   "language": "python",
   "name": "python3"
  },
  "language_info": {
   "codemirror_mode": {
    "name": "ipython",
    "version": 3
   },
   "file_extension": ".py",
   "mimetype": "text/x-python",
   "name": "python",
   "nbconvert_exporter": "python",
   "pygments_lexer": "ipython3",
   "version": "3.10.8"
  }
 },
 "nbformat": 4,
 "nbformat_minor": 5
}
