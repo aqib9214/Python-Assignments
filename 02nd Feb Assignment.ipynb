{
 "cells": [
  {
   "cell_type": "code",
   "execution_count": 4,
   "id": "621b6a73-f119-4522-a7d4-14be55d8cc4e",
   "metadata": {},
   "outputs": [
    {
     "data": {
      "text/plain": [
       "[2, 3, 4, 5, 6]"
      ]
     },
     "execution_count": 4,
     "metadata": {},
     "output_type": "execute_result"
    }
   ],
   "source": [
    "## Que1:\n",
    "l=[1,2,3,4,5]\n",
    "l1=[]\n",
    "for i in l:\n",
    "    l1.append(i+1)\n",
    "l1"
   ]
  },
  {
   "cell_type": "code",
   "execution_count": 6,
   "id": "e0fb5c7f-435b-4c37-8583-6e66be41080e",
   "metadata": {},
   "outputs": [
    {
     "name": "stdin",
     "output_type": "stream",
     "text": [
      "Enter the number 5\n"
     ]
    },
    {
     "data": {
      "text/plain": [
       "120"
      ]
     },
     "execution_count": 6,
     "metadata": {},
     "output_type": "execute_result"
    }
   ],
   "source": [
    "number=int(input(\"Enter the number\"))\n",
    "factorial=1\n",
    "\n",
    "while number>0:\n",
    "    factorial=factorial*number\n",
    "    number=number-1\n",
    "factorial"
   ]
  },
  {
   "cell_type": "code",
   "execution_count": 7,
   "id": "d44ac193-f499-47d3-9ee9-fdbb823b0df5",
   "metadata": {},
   "outputs": [
    {
     "name": "stdout",
     "output_type": "stream",
     "text": [
      "55\n"
     ]
    }
   ],
   "source": [
    "## Que2:\n",
    "addition=0\n",
    "for i in range(1,11):\n",
    "    addition=addition+i\n",
    "print(addition)"
   ]
  },
  {
   "cell_type": "code",
   "execution_count": 8,
   "id": "7e68cab0-af59-43bc-bf9c-301dfba73f6a",
   "metadata": {},
   "outputs": [
    {
     "name": "stdout",
     "output_type": "stream",
     "text": [
      "3628800\n"
     ]
    }
   ],
   "source": [
    "product=1\n",
    "for i in range(1,11):\n",
    "    product=product*i\n",
    "print(product)"
   ]
  },
  {
   "cell_type": "code",
   "execution_count": 9,
   "id": "5fe1f9c1-07d5-45f6-9cbb-fda2b420a160",
   "metadata": {},
   "outputs": [
    {
     "data": {
      "text/plain": [
       "55"
      ]
     },
     "execution_count": 9,
     "metadata": {},
     "output_type": "execute_result"
    }
   ],
   "source": [
    "num=10\n",
    "addition=0\n",
    "counter=1\n",
    "while counter<=num:\n",
    "    addition=addition+counter\n",
    "    counter=counter+1\n",
    "addition"
   ]
  },
  {
   "cell_type": "code",
   "execution_count": 10,
   "id": "2ae5fb65-4b42-4ccf-a9d6-246858c869c9",
   "metadata": {},
   "outputs": [
    {
     "data": {
      "text/plain": [
       "3628800"
      ]
     },
     "execution_count": 10,
     "metadata": {},
     "output_type": "execute_result"
    }
   ],
   "source": [
    "num1=10\n",
    "product=1\n",
    "counter=1\n",
    "while counter<=num1:\n",
    "    product=product*counter\n",
    "    counter=counter+1\n",
    "product"
   ]
  },
  {
   "cell_type": "code",
   "execution_count": 16,
   "id": "9ffa643f-7c80-4e1d-8532-ee997a8a98b1",
   "metadata": {},
   "outputs": [
    {
     "name": "stdin",
     "output_type": "stream",
     "text": [
      "Enter you unit 310\n"
     ]
    },
    {
     "name": "stdout",
     "output_type": "stream",
     "text": [
      "The total electricity bill is: 2250.0\n"
     ]
    }
   ],
   "source": [
    "## Que3:\n",
    "unit=int(input(\"Enter you unit\"))\n",
    "if unit<=100:\n",
    "    bill=unit*4.5\n",
    "elif unit>=101 and unit<=200:\n",
    "    bill=100*4.5+(unit-101)*6\n",
    "elif unit>=201 and unit<300:\n",
    "    bill=100*4.5+100*6+(unit-201)*10\n",
    "else:\n",
    "    bill=100*4.5+100*6+100*10+(unit-300)*20  \n",
    "print(\"The total electricity bill is:\",bill)"
   ]
  },
  {
   "cell_type": "code",
   "execution_count": 15,
   "id": "369dc468-e9fc-417c-9095-1ed283294ece",
   "metadata": {},
   "outputs": [
    {
     "name": "stdout",
     "output_type": "stream",
     "text": [
      "[8, 64, 125, 216, 512, 1000, 1728, 2744, 3375, 4096, 5832, 8000, 10648, 13824, 15625, 17576, 21952, 27000, 32768, 39304, 42875, 46656, 54872, 64000, 74088, 85184, 91125, 97336, 110592, 125000, 140608, 157464, 166375, 175616, 195112, 216000, 238328, 262144, 274625, 287496, 314432, 343000, 373248, 405224, 421875, 438976, 474552, 512000, 551368, 592704, 614125, 636056, 681472, 729000, 778688, 830584, 857375, 884736, 941192, 1000000]\n",
      "[8, 64, 125, 216, 512, 1000, 1728, 2744, 3375, 4096, 5832, 8000, 10648, 13824, 15625, 17576, 21952, 27000, 32768, 39304, 42875, 46656, 54872, 64000, 74088, 85184, 91125, 97336, 110592, 125000, 140608, 157464, 166375, 175616, 195112, 216000, 238328, 262144, 274625, 287496, 314432, 343000, 373248, 405224, 421875, 438976, 474552, 512000, 551368, 592704, 614125, 636056, 681472, 729000, 778688, 830584, 857375, 884736, 941192, 1000000]\n"
     ]
    }
   ],
   "source": [
    "## Que4:\n",
    "cubes = []\n",
    "for i in range(1, 101):\n",
    "    cube = i ** 3\n",
    "    if cube % 4 == 0 or cube % 5 == 0:\n",
    "        cubes.append(cube)\n",
    "\n",
    "print(cubes)\n",
    "\n",
    "cubes = []\n",
    "i = 1\n",
    "while i <= 100:\n",
    "    cube = i ** 3\n",
    "    if cube % 4 == 0 or cube % 5 == 0:\n",
    "        cubes.append(cube)\n",
    "    i = i + 1\n",
    "\n",
    "print(cubes)"
   ]
  },
  {
   "cell_type": "code",
   "execution_count": null,
   "id": "64788f10-b070-439e-8648-46e1057f355d",
   "metadata": {},
   "outputs": [],
   "source": []
  }
 ],
 "metadata": {
  "kernelspec": {
   "display_name": "Python 3 (ipykernel)",
   "language": "python",
   "name": "python3"
  },
  "language_info": {
   "codemirror_mode": {
    "name": "ipython",
    "version": 3
   },
   "file_extension": ".py",
   "mimetype": "text/x-python",
   "name": "python",
   "nbconvert_exporter": "python",
   "pygments_lexer": "ipython3",
   "version": "3.10.8"
  }
 },
 "nbformat": 4,
 "nbformat_minor": 5
}
